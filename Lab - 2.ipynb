{
 "cells": [
  {
   "cell_type": "markdown",
   "metadata": {},
   "source": [
    "\n",
    "<a href='https://www.darshan.ac.in/'> <img src='https://www.darshan.ac.in/Content/media/DU_Logo.svg' width=\"250\" height=\"300\"/></a>\n",
    "<pre>\n",
    "<center><b><h1>Python Programming - 2301CS404</b></center>\n",
    "<center><b><h1>Lab - 2</b></center>    \n",
    "<pre>\n",
    "    <center><b><h1>Vidisha Bhagiya|23010101017|04/12/2024 </b></center>\n",
    "<pre>"
   ]
  },
  {
   "cell_type": "markdown",
   "metadata": {},
   "source": [
    "# if..else.."
   ]
  },
  {
   "cell_type": "markdown",
   "metadata": {},
   "source": [
    "### 01) WAP to check whether the given number is positive or negative."
   ]
  },
  {
   "cell_type": "code",
   "execution_count": 1,
   "metadata": {},
   "outputs": [
    {
     "name": "stdout",
     "output_type": "stream",
     "text": [
      "Enter a number:  12\n"
     ]
    },
    {
     "name": "stdout",
     "output_type": "stream",
     "text": [
      "The number 12.0 is positive.\n"
     ]
    }
   ],
   "source": [
    "number = float(input(\"Enter a number: \"))\n",
    "if number > 0:\n",
    "    print(f\"The number {number} is positive.\")\n",
    "elif number < 0:\n",
    "    print(f\"The number {number} is negative.\")\n",
    "else:\n",
    "    print(\"The number is zero.\")"
   ]
  },
  {
   "cell_type": "markdown",
   "metadata": {},
   "source": [
    "### 02) WAP to check whether the given number is odd or even."
   ]
  },
  {
   "cell_type": "code",
   "execution_count": 10,
   "metadata": {},
   "outputs": [
    {
     "name": "stdout",
     "output_type": "stream",
     "text": [
      "Enter n1:  34\n"
     ]
    },
    {
     "name": "stdout",
     "output_type": "stream",
     "text": [
      "Number is Even\n"
     ]
    }
   ],
   "source": [
    "n = int(input(\"Enter n1: \"))\n",
    "if(n%2==0):\n",
    "    print(\"Number is Even\")\n",
    "else:\n",
    "     print(\"Number is Odd\")"
   ]
  },
  {
   "cell_type": "markdown",
   "metadata": {},
   "source": [
    "### 03) WAP to find out largest number from given two numbers using simple if and ternary operator."
   ]
  },
  {
   "cell_type": "code",
   "execution_count": 1,
   "metadata": {},
   "outputs": [
    {
     "data": {
      "text/plain": [
       "'12 is large'"
      ]
     },
     "execution_count": 1,
     "metadata": {},
     "output_type": "execute_result"
    }
   ],
   "source": [
    "n1 = int(input(\"Enter n1: \"))\n",
    "n2 = int(input(\"Enter n2: \"))\n",
    "(f\"{n1} is large\") if n1>n2 else print(f\"{n2} is large\")"
   ]
  },
  {
   "cell_type": "markdown",
   "metadata": {},
   "source": [
    "### 04) WAP to find out largest number from given three numbers."
   ]
  },
  {
   "cell_type": "code",
   "execution_count": 6,
   "metadata": {},
   "outputs": [
    {
     "name": "stdout",
     "output_type": "stream",
     "text": [
      "Enter n1:  3\n",
      "Enter n2:  4\n",
      "Enter n3:  1\n"
     ]
    },
    {
     "name": "stdout",
     "output_type": "stream",
     "text": [
      "4 is large\n"
     ]
    }
   ],
   "source": [
    "n1 = int(input(\"Enter n1: \"))\n",
    "n2 = int(input(\"Enter n2: \"))\n",
    "n3 = int(input(\"Enter n3: \"))\n",
    "if(n1>n2):\n",
    "    if(n1>n3):\n",
    "        print(f\"{n1} is large\")\n",
    "    else:\n",
    "        print(f\"{n3} is large\")\n",
    "else:\n",
    "    print(f\"{n2} is large\")\n",
    "\n",
    "    "
   ]
  },
  {
   "cell_type": "markdown",
   "metadata": {},
   "source": [
    "### 05) WAP to check whether the given year is leap year or not.\n",
    "[If a year can be divisible by 4 but not divisible by 100 then it is leap year but if it is divisible by 400 then it is leap year]"
   ]
  },
  {
   "cell_type": "code",
   "execution_count": 12,
   "metadata": {},
   "outputs": [
    {
     "name": "stdout",
     "output_type": "stream",
     "text": [
      "Enter year:  2020\n"
     ]
    },
    {
     "name": "stdout",
     "output_type": "stream",
     "text": [
      "2020 is leap year\n"
     ]
    }
   ],
   "source": [
    "n = int(input(\"Enter year: \"))\n",
    "if(n%4==0 and n%100!=0 or n%400==0):\n",
    "        print(f\"{n} is leap year\")\n",
    "else:\n",
    "    print(f\"{n} is not leap year\")"
   ]
  },
  {
   "cell_type": "markdown",
   "metadata": {},
   "source": [
    "### 06) WAP in python to display the name of the day according to the number given by the user."
   ]
  },
  {
   "cell_type": "code",
   "execution_count": 24,
   "metadata": {},
   "outputs": [
    {
     "name": "stdout",
     "output_type": "stream",
     "text": [
      "Enter day no:  9\n"
     ]
    },
    {
     "name": "stdout",
     "output_type": "stream",
     "text": [
      "Tuesday\n"
     ]
    }
   ],
   "source": [
    "n = int(input(\"Enter day no: \"))\n",
    "d = n%7\n",
    "match(d):\n",
    "    case 1:\n",
    "        print(\"Monday\")\n",
    "    case 2:\n",
    "        print(\"Tuesday\")\n",
    "    case 3:\n",
    "        print(\"Wednesday\")\n",
    "    case 4:\n",
    "        print(\"Thursday\")\n",
    "    case 5:\n",
    "        print(\"Friday\")\n",
    "    case 6:\n",
    "        print(\"Saturday\")\n",
    "    case 7:\n",
    "        print(\"Sunday\")\n",
    "    case _:\n",
    "        print(\"not day\")"
   ]
  },
  {
   "cell_type": "markdown",
   "metadata": {},
   "source": [
    "### 07) WAP to implement simple calculator which performs (add,sub,mul,div) of two no. based on user input."
   ]
  },
  {
   "cell_type": "code",
   "execution_count": 45,
   "metadata": {},
   "outputs": [
    {
     "name": "stdout",
     "output_type": "stream",
     "text": [
      "Enter n1 no:  1\n",
      "Enter n2 no:  2\n",
      "Enter your choice:  +\n"
     ]
    },
    {
     "name": "stdout",
     "output_type": "stream",
     "text": [
      "3\n"
     ]
    }
   ],
   "source": [
    "a = int(input(\"Enter n1 no: \"))\n",
    "b = int(input(\"Enter n2 no: \"))\n",
    "n = input(\"Enter your choice: \")\n",
    "match(n):\n",
    "    case \"+\":\n",
    "        print(a+b)\n",
    "    case \"-\":\n",
    "        print(a-b)\n",
    "    case \"*\":\n",
    "        print(a*b)\n",
    "    case \"/\":\n",
    "        print(a/b)\n",
    "    case _:\n",
    "        print(\"not valid\")    \n",
    "        "
   ]
  },
  {
   "cell_type": "markdown",
   "metadata": {},
   "source": [
    "### 08) WAP to read marks of five subjects. Calculate percentage and print class accordingly. \n",
    "Fail below 35 </br>\n",
    "Pass Class between 35 to 45 </br>\n",
    "Second Class</br>\n",
    "between 45 to 60</br>\n",
    "First Class between 60 to 70</br> \n",
    "Distinction if more than 70"
   ]
  },
  {
   "cell_type": "code",
   "execution_count": 36,
   "metadata": {},
   "outputs": [
    {
     "name": "stdout",
     "output_type": "stream",
     "text": [
      "Enter n1 no:  35\n",
      "Enter n2 no:  78\n",
      "Enter n3 no:  90\n",
      "Enter n4 no:  90\n",
      "Enter n5 no:  100\n"
     ]
    },
    {
     "name": "stdout",
     "output_type": "stream",
     "text": [
      "78.6 \n",
      "78.6 Distinction\n"
     ]
    }
   ],
   "source": [
    "n1 = int(input(\"Enter n1 no: \"))\n",
    "n2 = int(input(\"Enter n2 no: \"))\n",
    "n3 = int(input(\"Enter n3 no: \"))\n",
    "n4 = int(input(\"Enter n4 no: \"))\n",
    "n5 = int(input(\"Enter n5 no: \"))\n",
    "ans = ((n1+n2+n3+n4+n5)/500)*100\n",
    "print(f\"{ans} \") \n",
    "if(ans>=70):\n",
    "    print(f\"{ans} Distinction\")\n",
    "if(ans>=60 and ans<70):\n",
    "    print(f\"{ans} First class\")\n",
    "if(ans>=45  and ans<60):\n",
    "    print(f\"{ans} Second Class\")\n",
    "if(ans>=35 and ans<45):\n",
    "    print(f\"{ans} pass\")\n",
    "if(ans<35):\n",
    "    print(f\"{ans} fail\")    "
   ]
  },
  {
   "cell_type": "markdown",
   "metadata": {},
   "source": [
    "### 09) Three sides of a triangle are entered through the keyboard, WAP to check whether the triangle is isosceles, equilateral, scalene or right-angled triangle."
   ]
  },
  {
   "cell_type": "code",
   "execution_count": 38,
   "metadata": {},
   "outputs": [
    {
     "name": "stdout",
     "output_type": "stream",
     "text": [
      "Enter n1:  10\n",
      "Enter n2:  10\n",
      "Enter n3:  20\n"
     ]
    },
    {
     "name": "stdout",
     "output_type": "stream",
     "text": [
      "isosceles\n"
     ]
    }
   ],
   "source": [
    "n1 = int(input(\"Enter n1: \"))\n",
    "n2 = int(input(\"Enter n2: \"))\n",
    "n3 = int(input(\"Enter n3: \"))\n",
    "if(n1==n2==n3):\n",
    "    print(\"Tringle is equilateral\")\n",
    "elif(n1==n2!=n3 or n1==n3!=n2 or n3==n1!=n2):\n",
    "    print(\"isosceles\")\n",
    "elif(n1!=n2!=n3):\n",
    "    print(\"scalene\")\n",
    "\n",
    "\n",
    "    "
   ]
  },
  {
   "cell_type": "markdown",
   "metadata": {},
   "source": [
    "### 10) WAP to find the second largest number among three user input numbers."
   ]
  },
  {
   "cell_type": "code",
   "execution_count": 39,
   "metadata": {},
   "outputs": [
    {
     "name": "stdout",
     "output_type": "stream",
     "text": [
      "Enter first number : 12\n",
      "Enter second number : 11\n",
      "Enter third number : 10\n"
     ]
    },
    {
     "name": "stdout",
     "output_type": "stream",
     "text": [
      "The second largest number is 11\n"
     ]
    }
   ],
   "source": [
    "num1 = int(input(\"Enter first number :\"))\n",
    "num2 = int(input(\"Enter second number :\"))\n",
    "num3 = int(input(\"Enter third number :\"))\n",
    "\n",
    "if (num1 > num2 and num1 > num3):\n",
    "  if (num2>num3):\n",
    "    print(\"The second largest number is\",num2)\n",
    "  else:\n",
    "    print(\"The largest number is\",num3)\n",
    "      \n",
    "elif (num2 > num1 and num2 >num3):\n",
    "  if (num1 > num3):\n",
    "    print(\"The second largest number is\", num1)\n",
    "  else:\n",
    "    print(\"The second largest number is\", num3)\n",
    "      \n",
    "else:\n",
    "  if (num1 > num2):\n",
    "    print(\"The second largest number is\",num1)\n",
    "  else:\n",
    "    print(\"The second largest number is\", num2)\n"
   ]
  },
  {
   "cell_type": "markdown",
   "metadata": {},
   "source": [
    "### 11) WAP to calculate electricity bill based on following criteria. Which takes the unit from the user.\n",
    "a. First 1 to 50 units – Rs. 2.60/unit</br>\n",
    "b. Next 50 to 100 units – Rs. 3.25/unit</br>\n",
    "c. Next 100 to 200 units – Rs. 5.26/unit</br>\n",
    "d. above 200 units – Rs. 8.45/unit"
   ]
  },
  {
   "cell_type": "code",
   "execution_count": null,
   "metadata": {},
   "outputs": [],
   "source": [
    "units = float(input(\"Enter the number of units consumed: \"))\n",
    "bill = 0\n",
    "if units <= 50:\n",
    "    bill = units * 2.60\n",
    "elif units <= 100:\n",
    "    bill = (50 * 2.60) + ((units - 50) * 3.25)\n",
    "elif units <= 200:\n",
    "    bill = (50 * 2.60) + (50 * 3.25) + ((units - 100) * 5.26)\n",
    "else:\n",
    "    bill = (50 * 2.60) + (50 * 3.25) + (100 * 5.26) + ((units - 200) * 8.45)\n",
    "print(f\"Your electricity bill is: Rs. {bill:.2f}\")\n"
   ]
  }
 ],
 "metadata": {
  "kernelspec": {
   "display_name": "Python 3 (ipykernel)",
   "language": "python",
   "name": "python3"
  },
  "language_info": {
   "codemirror_mode": {
    "name": "ipython",
    "version": 3
   },
   "file_extension": ".py",
   "mimetype": "text/x-python",
   "name": "python",
   "nbconvert_exporter": "python",
   "pygments_lexer": "ipython3",
   "version": "3.13.0"
  }
 },
 "nbformat": 4,
 "nbformat_minor": 4
}
