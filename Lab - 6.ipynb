{
 "cells": [
  {
   "attachments": {},
   "cell_type": "markdown",
   "metadata": {},
   "source": [
    "<a href='https://www.darshan.ac.in/'> <img src='https://www.darshan.ac.in/Content/media/DU_Logo.svg' width=\"250\" height=\"300\"/></a>\n",
    "<pre>\n",
    "<center><b><h1>Python Programming - 2301CS404</b></center>\n",
    "<center><b><h1>Lab - 6</b></center>   \n",
    "     <center><b><h1>Vidisha Bhagiya|23010101017|8/1/2025</b></center>\n",
    "<pre>"
   ]
  },
  {
   "cell_type": "markdown",
   "metadata": {},
   "source": [
    "# Tuple"
   ]
  },
  {
   "cell_type": "markdown",
   "metadata": {},
   "source": [
    "### 01) WAP to find sum of tuple elements."
   ]
  },
  {
   "cell_type": "code",
   "execution_count": 1,
   "metadata": {},
   "outputs": [
    {
     "name": "stdin",
     "output_type": "stream",
     "text": [
      "Enter the tuple:  2\n"
     ]
    },
    {
     "name": "stdout",
     "output_type": "stream",
     "text": [
      "The sum of the tuple elements is: 2\n"
     ]
    }
   ],
   "source": [
    "sum_of_elements = sum(map(int, input(\"Enter the tuple: \").split()))\n",
    "print(\"The sum of the tuple elements is:\", sum_of_elements)"
   ]
  },
  {
   "cell_type": "markdown",
   "metadata": {},
   "source": [
    "### 02) WAP to find Maximum and Minimum K elements in a given tuple."
   ]
  },
  {
   "cell_type": "code",
   "execution_count": 3,
   "metadata": {},
   "outputs": [
    {
     "name": "stdout",
     "output_type": "stream",
     "text": [
      "Enter the tuple elements:  1 2 3 4 5 6 \n",
      "Enter the value of K:  3\n"
     ]
    },
    {
     "name": "stdout",
     "output_type": "stream",
     "text": [
      "The 3 smallest elements are: [1, 2, 3]\n",
      "The 3 largest elements are: [4, 5, 6]\n"
     ]
    }
   ],
   "source": [
    "t1 = (495,125,20,8,858,651,155,565,652,230)\n",
    "max = t1[0]\n",
    "for i in range(0,len(t1)):\n",
    "    if(max < t1[i]):\n",
    "        max = t1[i]\n",
    "print(max)\n",
    "min = t1[0]\n",
    "for i in range(0,len(t1)):\n",
    "    if(min > t1[i]):\n",
    "        min = t1[i]\n",
    "print(min)"
   ]
  },
  {
   "cell_type": "markdown",
   "metadata": {},
   "source": [
    "### 03) WAP to find tuples which have all elements divisible by K from a list of tuples."
   ]
  },
  {
   "cell_type": "code",
   "execution_count": 3,
   "metadata": {},
   "outputs": [
    {
     "name": "stdout",
     "output_type": "stream",
     "text": [
      "((10, 20, 30, 40), (5, 10, 15, 20))\n"
     ]
    }
   ],
   "source": [
    "l1 = [(10,20,30,40),(31,35,38,45,55),(3,6,9,12,16),(5,10,15,20)]\n",
    "k = 5\n",
    "t1 = tuple(i for i in l1 if all(a%k==0 for a in i))\n",
    "print(t1)"
   ]
  },
  {
   "cell_type": "markdown",
   "metadata": {},
   "source": [
    "### 04) WAP to create a list of tuples from given list having number and its cube in each tuple."
   ]
  },
  {
   "cell_type": "code",
   "execution_count": null,
   "metadata": {},
   "outputs": [],
   "source": [
    "l1 = [1,2,3,4,5,6,7]\n",
    "l2 = [(i,i**3) for i in l1]\n",
    "print(l2)"
   ]
  },
  {
   "cell_type": "markdown",
   "metadata": {},
   "source": [
    "### 05) WAP to find tuples with all positive elements from the given list of tuples."
   ]
  },
  {
   "cell_type": "code",
   "execution_count": null,
   "metadata": {},
   "outputs": [],
   "source": [
    "l1 = [(10,20,30,40),(-31,35,38,45,55),(3,6,9,12,16),(-5,10,15,20)]\n",
    "t1 = tuple(i for i in l1 if all(a>0 for a in i))\n",
    "print(t1)"
   ]
  },
  {
   "cell_type": "markdown",
   "metadata": {},
   "source": [
    "### 06) WAP to add tuple to list and vice – versa."
   ]
  },
  {
   "cell_type": "code",
   "execution_count": null,
   "metadata": {},
   "outputs": [],
   "source": [
    "t1 = (5,49,9,695,1,329,78)\n",
    "l1 = [96,105,3258,601,48,214]\n",
    "t2 = t1 + tuple(l1)\n",
    "l1.extend(t1)\n",
    "print(t2)\n",
    "print(l1)"
   ]
  },
  {
   "cell_type": "markdown",
   "metadata": {},
   "source": [
    "### 07) WAP to remove tuples of length K."
   ]
  },
  {
   "cell_type": "code",
   "execution_count": null,
   "metadata": {},
   "outputs": [],
   "source": [
    "l1 = [(1,2),(3,4,5),(6,7),(8,9,10),(11,),(12,13,14),(15,16)]\n",
    "k = 3\n",
    "l2 = [i for i in l1 if len(i)!=k]\n",
    "print(l2)\n",
    "# 11 pachi , etle karvo pade karanke single element in tuple integer ganai ane integer upar len() no kaam kare"
   ]
  },
  {
   "cell_type": "markdown",
   "metadata": {},
   "source": [
    "### 08) WAP to remove duplicates from tuple."
   ]
  },
  {
   "cell_type": "code",
   "execution_count": 2,
   "metadata": {},
   "outputs": [
    {
     "name": "stdout",
     "output_type": "stream",
     "text": [
      "(1, 2, 3, 4, 5, 6, 7, 8)\n"
     ]
    }
   ],
   "source": [
    "t1 = (1,2,1,3,4,3,5,6,5,4,7,8,7,2)\n",
    "t2 = tuple(set(t1))\n",
    "print(t2)"
   ]
  },
  {
   "cell_type": "markdown",
   "metadata": {},
   "source": [
    "### 09) WAP to multiply adjacent elements of a tuple and print that resultant tuple."
   ]
  },
  {
   "cell_type": "code",
   "execution_count": null,
   "metadata": {},
   "outputs": [],
   "source": [
    "t1 = (1,2,3,4,5,6,7)\n",
    "t2 = tuple(t1[i]*t1[i+1] for i in range(0,len(t1)-1))\n",
    "print(t2)\n",
    "# len(t1)-1 karvu pade nakr tuple ni index ni baar nikadi jase([i+1] na lidhe)"
   ]
  },
  {
   "cell_type": "markdown",
   "metadata": {},
   "source": [
    "### 10) WAP to test if the given tuple is distinct or not."
   ]
  },
  {
   "cell_type": "code",
   "execution_count": 5,
   "metadata": {},
   "outputs": [
    {
     "name": "stdout",
     "output_type": "stream",
     "text": [
      "Not\n"
     ]
    }
   ],
   "source": [
    "t1 = (1,2,3,4,5,2,4)\n",
    "# t1 = (1,2,3,4,5)\n",
    "if len(t1) == len(set(t1)):\n",
    "    print(\"Distinct\")\n",
    "else:\n",
    "    print(\"Not\")"
   ]
  },
  {
   "cell_type": "code",
   "execution_count": null,
   "metadata": {},
   "outputs": [],
   "source": []
  }
 ],
 "metadata": {
  "kernelspec": {
   "display_name": "Python 3 (ipykernel)",
   "language": "python",
   "name": "python3"
  },
  "language_info": {
   "codemirror_mode": {
    "name": "ipython",
    "version": 3
   },
   "file_extension": ".py",
   "mimetype": "text/x-python",
   "name": "python",
   "nbconvert_exporter": "python",
   "pygments_lexer": "ipython3",
   "version": "3.13.0"
  }
 },
 "nbformat": 4,
 "nbformat_minor": 4
}
