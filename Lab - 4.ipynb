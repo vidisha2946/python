{
 "cells": [
  {
   "cell_type": "markdown",
   "metadata": {},
   "source": [
    "\n",
    "<a href='https://www.darshan.ac.in/'> <img src='https://www.darshan.ac.in/Content/media/DU_Logo.svg' width=\"250\" height=\"300\"/></a>\n",
    "<pre>\n",
    "<center><b><h1>Python Programming - 2301CS404</b></center>\n",
    "<center><b><h1>Lab - 4</b></center>   \n",
    "     <center><b><h1>Vidisha Bhagiya|23010101017|17/12/2024 </b></center>\n",
    "<pre>"
   ]
  },
  {
   "cell_type": "markdown",
   "metadata": {},
   "source": [
    "# String"
   ]
  },
  {
   "cell_type": "markdown",
   "metadata": {},
   "source": [
    "### 01) WAP to check whether the given string is palindrome or not."
   ]
  },
  {
   "cell_type": "code",
   "execution_count": 2,
   "metadata": {},
   "outputs": [
    {
     "name": "stdin",
     "output_type": "stream",
     "text": [
      "Enter a number 234\n"
     ]
    },
    {
     "name": "stdout",
     "output_type": "stream",
     "text": [
      "No, its not a palindrome\n"
     ]
    }
   ],
   "source": [
    "num = input(\"Enter a number\")\n",
    "if num == num[::-1]:\n",
    "\tprint(\"Yes its a palindrome\")\n",
    "else:\n",
    "\tprint(\"No, its not a palindrome\")\n"
   ]
  },
  {
   "cell_type": "markdown",
   "metadata": {},
   "source": [
    "### 02) WAP to reverse the words in the given string."
   ]
  },
  {
   "cell_type": "code",
   "execution_count": null,
   "metadata": {},
   "outputs": [],
   "source": [
    "string = \"geeks quiz practice code\"\n",
    "s = string.split()[::-1]\n",
    "l = []\n",
    "for i in s:\n",
    "\tl.append(i)\n",
    "print(\" \".join(l))\n"
   ]
  },
  {
   "cell_type": "markdown",
   "metadata": {},
   "source": [
    "### 03) WAP to remove ith character from given string."
   ]
  },
  {
   "cell_type": "code",
   "execution_count": 2,
   "metadata": {},
   "outputs": [
    {
     "name": "stdin",
     "output_type": "stream",
     "text": [
      "Enter N:  vidz\n",
      "Enter ith position remove:  1\n"
     ]
    },
    {
     "name": "stdout",
     "output_type": "stream",
     "text": [
      "vdz\n"
     ]
    }
   ],
   "source": [
    "n = input(\"Enter N: \")\n",
    "i = int(input(\"Enter ith position remove: \"))\n",
    "res = n[:i] + n[i+1:]\n",
    "print(res)"
   ]
  },
  {
   "cell_type": "markdown",
   "metadata": {},
   "source": [
    "### 04) WAP to find length of string without using len function."
   ]
  },
  {
   "cell_type": "code",
   "execution_count": 11,
   "metadata": {},
   "outputs": [
    {
     "name": "stdin",
     "output_type": "stream",
     "text": [
      "Enter String:  vidisha\n"
     ]
    },
    {
     "name": "stdout",
     "output_type": "stream",
     "text": [
      "7\n"
     ]
    }
   ],
   "source": [
    "n = input(\"Enter String: \")\n",
    "count=0\n",
    "for i in n:\n",
    "    count = count+1\n",
    "print(count)    \n",
    "          "
   ]
  },
  {
   "cell_type": "markdown",
   "metadata": {},
   "source": [
    "### 05) WAP to print even length word in string."
   ]
  },
  {
   "cell_type": "code",
   "execution_count": 13,
   "metadata": {},
   "outputs": [
    {
     "name": "stdin",
     "output_type": "stream",
     "text": [
      "Enter word:  vidu vidisha1\n"
     ]
    },
    {
     "name": "stdout",
     "output_type": "stream",
     "text": [
      "vidu\n",
      "vidisha1\n"
     ]
    }
   ],
   "source": [
    "n=input(\"Enter word: \")\n",
    "word = n.split()\n",
    "for ans in word:\n",
    "    if len(ans)%2==0:\n",
    "        print(ans)"
   ]
  },
  {
   "cell_type": "markdown",
   "metadata": {},
   "source": [
    "### 06) WAP to count numbers of vowels in given string."
   ]
  },
  {
   "cell_type": "code",
   "execution_count": 20,
   "metadata": {},
   "outputs": [
    {
     "name": "stdin",
     "output_type": "stream",
     "text": [
      "Enter a string:  vidu\n"
     ]
    },
    {
     "name": "stdout",
     "output_type": "stream",
     "text": [
      "2\n"
     ]
    }
   ],
   "source": [
    "n = input(\"Enter a string: \")\n",
    "count = 0\n",
    "for char in n:\n",
    "    if(char) in [\"A\",\"E\",\"I\",\"O\",\"U\",\"a\",\"e\",\"i\",\"o\",\"u\"]:\n",
    "        count =count + 1\n",
    "print(count)     "
   ]
  },
  {
   "cell_type": "markdown",
   "metadata": {},
   "source": [
    "### 07) WAP to capitalize the first and last character of each word in a string."
   ]
  },
  {
   "cell_type": "code",
   "execution_count": 48,
   "metadata": {},
   "outputs": [
    {
     "name": "stdin",
     "output_type": "stream",
     "text": [
      "Enter String:  vidisha is a\n"
     ]
    },
    {
     "name": "stdout",
     "output_type": "stream",
     "text": [
      "VidishA IS A\n"
     ]
    }
   ],
   "source": [
    "n = input(\"Enter String: \")\n",
    "words=n.split()\n",
    "result = []\n",
    "for char in words:\n",
    "    if(len(char)>1):\n",
    "        word = char[0].upper()+char[1:-1]+char[-1].upper()\n",
    "    else:\n",
    "        word = char.upper()\n",
    "    result.append(word)\n",
    "output = \" \".join(result)\n",
    "print(output)    "
   ]
  },
  {
   "cell_type": "markdown",
   "metadata": {},
   "source": [
    "### 08) WAP to convert given array to string."
   ]
  },
  {
   "cell_type": "code",
   "execution_count": 7,
   "metadata": {},
   "outputs": [
    {
     "name": "stdin",
     "output_type": "stream",
     "text": [
      "Enter the elements of the array separated by spaces:  123\n"
     ]
    },
    {
     "name": "stdout",
     "output_type": "stream",
     "text": [
      "Converted String: 123\n"
     ]
    }
   ],
   "source": [
    "# Take input from the user\n",
    "n = input(\"Enter the elements of the array separated by spaces: \")\n",
    "array = n.split()\n",
    "result = \"\".join(array)\n",
    "print(\"Converted String:\", result)\n"
   ]
  },
  {
   "cell_type": "markdown",
   "metadata": {},
   "source": [
    "### 09) Check if the password and confirm password is same or not. \n",
    "### In case of only case's mistake, show the error message."
   ]
  },
  {
   "cell_type": "code",
   "execution_count": 10,
   "metadata": {},
   "outputs": [
    {
     "name": "stdin",
     "output_type": "stream",
     "text": [
      "Enter your password:  hello\n",
      "Confirm your password:  hell\n"
     ]
    },
    {
     "name": "stdout",
     "output_type": "stream",
     "text": [
      "Passwords do not match.\n"
     ]
    }
   ],
   "source": [
    "pwd = input(\"Enter your password: \")\n",
    "c_pwd = input(\"Confirm your password: \")\n",
    "\n",
    "# Check if the passwords match\n",
    "if pwd == c_pwd:\n",
    "    print(\"Passwords match!\")\n",
    "elif pwd.lower() == c_pwd.lower():\n",
    "    print(\"Passwords do not match. Check the case of the letters.\")\n",
    "else:\n",
    "    print(\"Passwords do not match.\")\n"
   ]
  },
  {
   "cell_type": "markdown",
   "metadata": {},
   "source": [
    "### 10) : Display credit card number. \n",
    "### card no. : 1234 5678 9012 3456\n",
    "### display as  : **** **** **** 3456"
   ]
  },
  {
   "cell_type": "code",
   "execution_count": 16,
   "metadata": {},
   "outputs": [
    {
     "name": "stdin",
     "output_type": "stream",
     "text": [
      "Enter your credit card number:  12345\n"
     ]
    },
    {
     "name": "stdout",
     "output_type": "stream",
     "text": [
      "Masked Card Number: *2345\n"
     ]
    }
   ],
   "source": [
    "c_num = input(\"Enter your credit card number: \")\n",
    "store = '*' * (len(c_num) - 4) + c_num[-4:]\n",
    "print(\"Masked Card Number:\", store)"
   ]
  },
  {
   "cell_type": "markdown",
   "metadata": {},
   "source": [
    "### 11) : Checking if the two strings are Anagram or not.\n",
    "### s1 = decimal and s2 = medical are Anagram"
   ]
  },
  {
   "cell_type": "code",
   "execution_count": 20,
   "metadata": {},
   "outputs": [
    {
     "name": "stdin",
     "output_type": "stream",
     "text": [
      "Enter the first string:  vidu\n",
      "Enter the second string:  vidi\n"
     ]
    },
    {
     "name": "stdout",
     "output_type": "stream",
     "text": [
      "vidu and vidi are not Anagrams.\n"
     ]
    }
   ],
   "source": [
    "s1 = input(\"Enter the first string: \")\n",
    "s2 = input(\"Enter the second string: \")\n",
    "if sorted(s1) == sorted(s2):\n",
    "    print(f\"{s1} and {s2} are Anagrams.\")\n",
    "else:\n",
    "    print(f\"{s1} and {s2} are not Anagrams.\")\n"
   ]
  },
  {
   "cell_type": "markdown",
   "metadata": {},
   "source": [
    "### 12) : Rearrange the given string. First lowercase then uppercase alphabets.\n",
    "### input : EHlsarwiwhtwMV\n",
    "### output : lsarwiwhtwEHMV"
   ]
  },
  {
   "cell_type": "code",
   "execution_count": 24,
   "metadata": {},
   "outputs": [
    {
     "name": "stdin",
     "output_type": "stream",
     "text": [
      "Enter the string:  EDCCrfghjjkWSD\n"
     ]
    },
    {
     "name": "stdout",
     "output_type": "stream",
     "text": [
      "Rearranged string: rfghjjkEDCCWSD\n"
     ]
    }
   ],
   "source": [
    "input_string = input(\"Enter the string: \")\n",
    "lowercase = ''.join([char for char in input_string if char.islower()])\n",
    "uppercase = ''.join([char for char in input_string if char.isupper()])\n",
    "output_string = lowercase + uppercase\n",
    "print(\"Rearranged string:\", output_string)\n"
   ]
  },
  {
   "cell_type": "code",
   "execution_count": null,
   "metadata": {},
   "outputs": [],
   "source": []
  }
 ],
 "metadata": {
  "kernelspec": {
   "display_name": "Python 3 (ipykernel)",
   "language": "python",
   "name": "python3"
  },
  "language_info": {
   "codemirror_mode": {
    "name": "ipython",
    "version": 3
   },
   "file_extension": ".py",
   "mimetype": "text/x-python",
   "name": "python",
   "nbconvert_exporter": "python",
   "pygments_lexer": "ipython3",
   "version": "3.13.0"
  },
  "vscode": {
   "interpreter": {
    "hash": "31f2aee4e71d21fbe5cf8b01ff0e069b9275f58929596ceb00d14d90e3e16cd6"
   }
  }
 },
 "nbformat": 4,
 "nbformat_minor": 4
}
